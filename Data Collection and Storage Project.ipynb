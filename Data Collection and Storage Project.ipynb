{
 "cells": [
  {
   "cell_type": "markdown",
   "metadata": {},
   "source": [
    "# Data Collection and Storage Project (Python part)"
   ]
  },
  {
   "cell_type": "markdown",
   "metadata": {},
   "source": [
    "## Project Description"
   ]
  },
  {
   "cell_type": "markdown",
   "metadata": {},
   "source": [
    "In addition to the data you retrieved in the previous tasks, you've been given a second file. You now have these two CSVs: \n",
    "First with taxi company name and the number of rides for each taxi company on November 15-16, 2017.\n",
    "Second with Chicago neighborhoods where rides ended and the average number of rides that ended in each neighborhood in November 2017.\n",
    "\n",
    "For these two datasets you now need to import, study and preprocess the data. Then you need to identify the top 10 neighborhoods in terms of drop-offs; make graphs: taxi companies and number of rides, top 10 neighborhoods by number of dropoffs; draw conclusions.\n",
    "\n",
    "In addition, you need to test the hypothesis:\n",
    "\"The average duration of rides from the Loop to O'Hare International Airport changes on rainy Saturdays.\""
   ]
  },
  {
   "cell_type": "markdown",
   "metadata": {},
   "source": [
    "## Table of contents:\n",
    "\n",
    "1. [Load and study the data](#point1) <br>\n",
    "2. [Top 10 neighborhoods in terms of drop-offs](#point2) <br>\n",
    "3. [Taxi companies and the number of rides](#point3) <br>\n",
    "4. [Testing hypothesis](#point4) <br>"
   ]
  },
  {
   "cell_type": "markdown",
   "metadata": {},
   "source": [
    "<a id=\"point1\"></a>\n",
    "### Load and study the data"
   ]
  },
  {
   "cell_type": "code",
   "execution_count": 1,
   "metadata": {},
   "outputs": [],
   "source": [
    "import pandas as pd\n",
    "import numpy as np\n",
    "from scipy import stats as st\n",
    "from matplotlib import pyplot as plt\n",
    "import seaborn as sns"
   ]
  },
  {
   "cell_type": "code",
   "execution_count": 2,
   "metadata": {},
   "outputs": [
    {
     "data": {
      "text/html": [
       "<div>\n",
       "<style scoped>\n",
       "    .dataframe tbody tr th:only-of-type {\n",
       "        vertical-align: middle;\n",
       "    }\n",
       "\n",
       "    .dataframe tbody tr th {\n",
       "        vertical-align: top;\n",
       "    }\n",
       "\n",
       "    .dataframe thead th {\n",
       "        text-align: right;\n",
       "    }\n",
       "</style>\n",
       "<table border=\"1\" class=\"dataframe\">\n",
       "  <thead>\n",
       "    <tr style=\"text-align: right;\">\n",
       "      <th></th>\n",
       "      <th>company_name</th>\n",
       "      <th>trips_amount</th>\n",
       "    </tr>\n",
       "  </thead>\n",
       "  <tbody>\n",
       "    <tr>\n",
       "      <td>37</td>\n",
       "      <td>1469 - 64126 Omar Jada</td>\n",
       "      <td>36</td>\n",
       "    </tr>\n",
       "    <tr>\n",
       "      <td>40</td>\n",
       "      <td>6574 - Babylon Express Inc.</td>\n",
       "      <td>31</td>\n",
       "    </tr>\n",
       "    <tr>\n",
       "      <td>43</td>\n",
       "      <td>2809 - 95474 C &amp; D Cab Co Inc.</td>\n",
       "      <td>29</td>\n",
       "    </tr>\n",
       "    <tr>\n",
       "      <td>62</td>\n",
       "      <td>2241 - 44667 - Felman Corp</td>\n",
       "      <td>3</td>\n",
       "    </tr>\n",
       "    <tr>\n",
       "      <td>38</td>\n",
       "      <td>6743 - 78771 Luhak Corp</td>\n",
       "      <td>33</td>\n",
       "    </tr>\n",
       "    <tr>\n",
       "      <td>3</td>\n",
       "      <td>Yellow Cab</td>\n",
       "      <td>9888</td>\n",
       "    </tr>\n",
       "    <tr>\n",
       "      <td>56</td>\n",
       "      <td>5997 - 65283 AW Services Inc.</td>\n",
       "      <td>12</td>\n",
       "    </tr>\n",
       "    <tr>\n",
       "      <td>20</td>\n",
       "      <td>Checker Taxi</td>\n",
       "      <td>1486</td>\n",
       "    </tr>\n",
       "    <tr>\n",
       "      <td>31</td>\n",
       "      <td>American United Taxi Affiliation</td>\n",
       "      <td>210</td>\n",
       "    </tr>\n",
       "    <tr>\n",
       "      <td>15</td>\n",
       "      <td>Checker Taxi Affiliation</td>\n",
       "      <td>2216</td>\n",
       "    </tr>\n",
       "  </tbody>\n",
       "</table>\n",
       "</div>"
      ],
      "text/plain": [
       "                        company_name  trips_amount\n",
       "37            1469 - 64126 Omar Jada            36\n",
       "40       6574 - Babylon Express Inc.            31\n",
       "43    2809 - 95474 C & D Cab Co Inc.            29\n",
       "62        2241 - 44667 - Felman Corp             3\n",
       "38           6743 - 78771 Luhak Corp            33\n",
       "3                         Yellow Cab          9888\n",
       "56     5997 - 65283 AW Services Inc.            12\n",
       "20                      Checker Taxi          1486\n",
       "31  American United Taxi Affiliation           210\n",
       "15          Checker Taxi Affiliation          2216"
      ]
     },
     "execution_count": 2,
     "metadata": {},
     "output_type": "execute_result"
    }
   ],
   "source": [
    "data_comp = pd.read_csv('/datasets/project_sql_result_01.csv')\n",
    "data_comp.sample(10)"
   ]
  },
  {
   "cell_type": "code",
   "execution_count": 3,
   "metadata": {},
   "outputs": [
    {
     "name": "stdout",
     "output_type": "stream",
     "text": [
      "<class 'pandas.core.frame.DataFrame'>\n",
      "RangeIndex: 64 entries, 0 to 63\n",
      "Data columns (total 2 columns):\n",
      "company_name    64 non-null object\n",
      "trips_amount    64 non-null int64\n",
      "dtypes: int64(1), object(1)\n",
      "memory usage: 1.1+ KB\n"
     ]
    }
   ],
   "source": [
    "data_comp.info()"
   ]
  },
  {
   "cell_type": "code",
   "execution_count": 4,
   "metadata": {},
   "outputs": [
    {
     "data": {
      "text/plain": [
       "count       64.000000\n",
       "mean      2145.484375\n",
       "std       3812.310186\n",
       "min          2.000000\n",
       "25%         20.750000\n",
       "50%        178.500000\n",
       "75%       2106.500000\n",
       "max      19558.000000\n",
       "Name: trips_amount, dtype: float64"
      ]
     },
     "execution_count": 4,
     "metadata": {},
     "output_type": "execute_result"
    }
   ],
   "source": [
    "data_comp.trips_amount.describe()"
   ]
  },
  {
   "cell_type": "code",
   "execution_count": 5,
   "metadata": {},
   "outputs": [
    {
     "data": {
      "text/plain": [
       "64"
      ]
     },
     "execution_count": 5,
     "metadata": {},
     "output_type": "execute_result"
    }
   ],
   "source": [
    "len(data_comp.company_name.unique())"
   ]
  },
  {
   "cell_type": "code",
   "execution_count": 6,
   "metadata": {},
   "outputs": [],
   "source": [
    "data_comp.company_name = data_comp.company_name.astype(str)"
   ]
  },
  {
   "cell_type": "markdown",
   "metadata": {},
   "source": [
    "First, we have 'data_comp' table which contains data on companies and the number of rides for each company on November 15-16, 2017. We see 64 unique company names, with number of rides varying from 2 to 19558. Everything seems OK."
   ]
  },
  {
   "cell_type": "code",
   "execution_count": 7,
   "metadata": {},
   "outputs": [],
   "source": [
    "data_loc = pd.read_csv('/datasets/project_sql_result_04.csv')"
   ]
  },
  {
   "cell_type": "code",
   "execution_count": 8,
   "metadata": {},
   "outputs": [
    {
     "data": {
      "text/html": [
       "<div>\n",
       "<style scoped>\n",
       "    .dataframe tbody tr th:only-of-type {\n",
       "        vertical-align: middle;\n",
       "    }\n",
       "\n",
       "    .dataframe tbody tr th {\n",
       "        vertical-align: top;\n",
       "    }\n",
       "\n",
       "    .dataframe thead th {\n",
       "        text-align: right;\n",
       "    }\n",
       "</style>\n",
       "<table border=\"1\" class=\"dataframe\">\n",
       "  <thead>\n",
       "    <tr style=\"text-align: right;\">\n",
       "      <th></th>\n",
       "      <th>dropoff_location_name</th>\n",
       "      <th>average_trips</th>\n",
       "    </tr>\n",
       "  </thead>\n",
       "  <tbody>\n",
       "    <tr>\n",
       "      <td>19</td>\n",
       "      <td>Old Town</td>\n",
       "      <td>469.566667</td>\n",
       "    </tr>\n",
       "    <tr>\n",
       "      <td>1</td>\n",
       "      <td>River North</td>\n",
       "      <td>9523.666667</td>\n",
       "    </tr>\n",
       "    <tr>\n",
       "      <td>17</td>\n",
       "      <td>Edgewater</td>\n",
       "      <td>583.300000</td>\n",
       "    </tr>\n",
       "    <tr>\n",
       "      <td>80</td>\n",
       "      <td>West Lawn</td>\n",
       "      <td>7.733333</td>\n",
       "    </tr>\n",
       "    <tr>\n",
       "      <td>61</td>\n",
       "      <td>Grand Crossing</td>\n",
       "      <td>22.600000</td>\n",
       "    </tr>\n",
       "    <tr>\n",
       "      <td>14</td>\n",
       "      <td>Near South Side</td>\n",
       "      <td>839.833333</td>\n",
       "    </tr>\n",
       "    <tr>\n",
       "      <td>48</td>\n",
       "      <td>Austin</td>\n",
       "      <td>44.433333</td>\n",
       "    </tr>\n",
       "    <tr>\n",
       "      <td>5</td>\n",
       "      <td>Lake View</td>\n",
       "      <td>2420.966667</td>\n",
       "    </tr>\n",
       "    <tr>\n",
       "      <td>24</td>\n",
       "      <td>West Ridge</td>\n",
       "      <td>298.333333</td>\n",
       "    </tr>\n",
       "    <tr>\n",
       "      <td>73</td>\n",
       "      <td>Chicago Lawn</td>\n",
       "      <td>12.266667</td>\n",
       "    </tr>\n",
       "  </tbody>\n",
       "</table>\n",
       "</div>"
      ],
      "text/plain": [
       "   dropoff_location_name  average_trips\n",
       "19              Old Town     469.566667\n",
       "1            River North    9523.666667\n",
       "17             Edgewater     583.300000\n",
       "80             West Lawn       7.733333\n",
       "61        Grand Crossing      22.600000\n",
       "14       Near South Side     839.833333\n",
       "48                Austin      44.433333\n",
       "5              Lake View    2420.966667\n",
       "24            West Ridge     298.333333\n",
       "73          Chicago Lawn      12.266667"
      ]
     },
     "execution_count": 8,
     "metadata": {},
     "output_type": "execute_result"
    }
   ],
   "source": [
    "data_loc.sample(10)"
   ]
  },
  {
   "cell_type": "code",
   "execution_count": 9,
   "metadata": {},
   "outputs": [
    {
     "name": "stdout",
     "output_type": "stream",
     "text": [
      "<class 'pandas.core.frame.DataFrame'>\n",
      "RangeIndex: 94 entries, 0 to 93\n",
      "Data columns (total 2 columns):\n",
      "dropoff_location_name    94 non-null object\n",
      "average_trips            94 non-null float64\n",
      "dtypes: float64(1), object(1)\n",
      "memory usage: 1.6+ KB\n"
     ]
    }
   ],
   "source": [
    "data_loc.info()"
   ]
  },
  {
   "cell_type": "code",
   "execution_count": 10,
   "metadata": {},
   "outputs": [
    {
     "data": {
      "text/plain": [
       "94"
      ]
     },
     "execution_count": 10,
     "metadata": {},
     "output_type": "execute_result"
    }
   ],
   "source": [
    "len(data_loc.dropoff_location_name.unique())"
   ]
  },
  {
   "cell_type": "code",
   "execution_count": 11,
   "metadata": {},
   "outputs": [
    {
     "data": {
      "text/plain": [
       "count       94.000000\n",
       "mean       599.953728\n",
       "std       1714.591098\n",
       "min          1.800000\n",
       "25%         14.266667\n",
       "50%         52.016667\n",
       "75%        298.858333\n",
       "max      10727.466667\n",
       "Name: average_trips, dtype: float64"
      ]
     },
     "execution_count": 11,
     "metadata": {},
     "output_type": "execute_result"
    }
   ],
   "source": [
    "data_loc.average_trips.describe()"
   ]
  },
  {
   "cell_type": "code",
   "execution_count": 12,
   "metadata": {},
   "outputs": [],
   "source": [
    "data_loc.average_trips = round(data_loc.average_trips, 1).astype(int)"
   ]
  },
  {
   "cell_type": "code",
   "execution_count": 13,
   "metadata": {},
   "outputs": [
    {
     "data": {
      "text/html": [
       "<div>\n",
       "<style scoped>\n",
       "    .dataframe tbody tr th:only-of-type {\n",
       "        vertical-align: middle;\n",
       "    }\n",
       "\n",
       "    .dataframe tbody tr th {\n",
       "        vertical-align: top;\n",
       "    }\n",
       "\n",
       "    .dataframe thead th {\n",
       "        text-align: right;\n",
       "    }\n",
       "</style>\n",
       "<table border=\"1\" class=\"dataframe\">\n",
       "  <thead>\n",
       "    <tr style=\"text-align: right;\">\n",
       "      <th></th>\n",
       "      <th>dropoff_location_name</th>\n",
       "      <th>average_trips</th>\n",
       "    </tr>\n",
       "  </thead>\n",
       "  <tbody>\n",
       "    <tr>\n",
       "      <td>0</td>\n",
       "      <td>Loop</td>\n",
       "      <td>10727</td>\n",
       "    </tr>\n",
       "    <tr>\n",
       "      <td>1</td>\n",
       "      <td>River North</td>\n",
       "      <td>9523</td>\n",
       "    </tr>\n",
       "    <tr>\n",
       "      <td>2</td>\n",
       "      <td>Streeterville</td>\n",
       "      <td>6664</td>\n",
       "    </tr>\n",
       "    <tr>\n",
       "      <td>3</td>\n",
       "      <td>West Loop</td>\n",
       "      <td>5163</td>\n",
       "    </tr>\n",
       "    <tr>\n",
       "      <td>4</td>\n",
       "      <td>O'Hare</td>\n",
       "      <td>2546</td>\n",
       "    </tr>\n",
       "  </tbody>\n",
       "</table>\n",
       "</div>"
      ],
      "text/plain": [
       "  dropoff_location_name  average_trips\n",
       "0                  Loop          10727\n",
       "1           River North           9523\n",
       "2         Streeterville           6664\n",
       "3             West Loop           5163\n",
       "4                O'Hare           2546"
      ]
     },
     "execution_count": 13,
     "metadata": {},
     "output_type": "execute_result"
    }
   ],
   "source": [
    "data_loc.head(5)"
   ]
  },
  {
   "cell_type": "code",
   "execution_count": 14,
   "metadata": {},
   "outputs": [
    {
     "data": {
      "text/html": [
       "<div>\n",
       "<style scoped>\n",
       "    .dataframe tbody tr th:only-of-type {\n",
       "        vertical-align: middle;\n",
       "    }\n",
       "\n",
       "    .dataframe tbody tr th {\n",
       "        vertical-align: top;\n",
       "    }\n",
       "\n",
       "    .dataframe thead th {\n",
       "        text-align: right;\n",
       "    }\n",
       "</style>\n",
       "<table border=\"1\" class=\"dataframe\">\n",
       "  <thead>\n",
       "    <tr style=\"text-align: right;\">\n",
       "      <th></th>\n",
       "      <th>dropoff_location_name</th>\n",
       "      <th>average_trips</th>\n",
       "    </tr>\n",
       "  </thead>\n",
       "  <tbody>\n",
       "    <tr>\n",
       "      <td>89</td>\n",
       "      <td>Mount Greenwood</td>\n",
       "      <td>3</td>\n",
       "    </tr>\n",
       "    <tr>\n",
       "      <td>90</td>\n",
       "      <td>Hegewisch</td>\n",
       "      <td>3</td>\n",
       "    </tr>\n",
       "    <tr>\n",
       "      <td>91</td>\n",
       "      <td>Burnside</td>\n",
       "      <td>2</td>\n",
       "    </tr>\n",
       "    <tr>\n",
       "      <td>92</td>\n",
       "      <td>East Side</td>\n",
       "      <td>2</td>\n",
       "    </tr>\n",
       "    <tr>\n",
       "      <td>93</td>\n",
       "      <td>Riverdale</td>\n",
       "      <td>1</td>\n",
       "    </tr>\n",
       "  </tbody>\n",
       "</table>\n",
       "</div>"
      ],
      "text/plain": [
       "   dropoff_location_name  average_trips\n",
       "89       Mount Greenwood              3\n",
       "90             Hegewisch              3\n",
       "91              Burnside              2\n",
       "92             East Side              2\n",
       "93             Riverdale              1"
      ]
     },
     "execution_count": 14,
     "metadata": {},
     "output_type": "execute_result"
    }
   ],
   "source": [
    "data_loc.tail(5)"
   ]
  },
  {
   "cell_type": "markdown",
   "metadata": {},
   "source": [
    "Next we have 'data_loc' table with data on Chicago neigborhoods where the ride ended and number of ride dropoffs in every neighborhood in November 2017. We have 94 unique neighborhoods and number of rides, which we rounded and turned into integers so it will be eaiser to make further calculations. "
   ]
  },
  {
   "cell_type": "markdown",
   "metadata": {},
   "source": [
    "<a id=\"point2\"></a>\n",
    "### Top 10 neighborhoods in terms of drop-offs"
   ]
  },
  {
   "cell_type": "code",
   "execution_count": 15,
   "metadata": {},
   "outputs": [],
   "source": [
    "top10_dropoff = data_loc.sort_values(by='average_trips', ascending=False)[:10]"
   ]
  },
  {
   "cell_type": "code",
   "execution_count": 16,
   "metadata": {},
   "outputs": [
    {
     "data": {
      "text/html": [
       "<div>\n",
       "<style scoped>\n",
       "    .dataframe tbody tr th:only-of-type {\n",
       "        vertical-align: middle;\n",
       "    }\n",
       "\n",
       "    .dataframe tbody tr th {\n",
       "        vertical-align: top;\n",
       "    }\n",
       "\n",
       "    .dataframe thead th {\n",
       "        text-align: right;\n",
       "    }\n",
       "</style>\n",
       "<table border=\"1\" class=\"dataframe\">\n",
       "  <thead>\n",
       "    <tr style=\"text-align: right;\">\n",
       "      <th></th>\n",
       "      <th>dropoff_location_name</th>\n",
       "      <th>average_trips</th>\n",
       "    </tr>\n",
       "  </thead>\n",
       "  <tbody>\n",
       "    <tr>\n",
       "      <td>0</td>\n",
       "      <td>Loop</td>\n",
       "      <td>10727</td>\n",
       "    </tr>\n",
       "    <tr>\n",
       "      <td>1</td>\n",
       "      <td>River North</td>\n",
       "      <td>9523</td>\n",
       "    </tr>\n",
       "    <tr>\n",
       "      <td>2</td>\n",
       "      <td>Streeterville</td>\n",
       "      <td>6664</td>\n",
       "    </tr>\n",
       "    <tr>\n",
       "      <td>3</td>\n",
       "      <td>West Loop</td>\n",
       "      <td>5163</td>\n",
       "    </tr>\n",
       "    <tr>\n",
       "      <td>4</td>\n",
       "      <td>O'Hare</td>\n",
       "      <td>2546</td>\n",
       "    </tr>\n",
       "    <tr>\n",
       "      <td>5</td>\n",
       "      <td>Lake View</td>\n",
       "      <td>2421</td>\n",
       "    </tr>\n",
       "    <tr>\n",
       "      <td>6</td>\n",
       "      <td>Grant Park</td>\n",
       "      <td>2068</td>\n",
       "    </tr>\n",
       "    <tr>\n",
       "      <td>7</td>\n",
       "      <td>Museum Campus</td>\n",
       "      <td>1510</td>\n",
       "    </tr>\n",
       "    <tr>\n",
       "      <td>8</td>\n",
       "      <td>Gold Coast</td>\n",
       "      <td>1364</td>\n",
       "    </tr>\n",
       "    <tr>\n",
       "      <td>9</td>\n",
       "      <td>Sheffield &amp; DePaul</td>\n",
       "      <td>1259</td>\n",
       "    </tr>\n",
       "  </tbody>\n",
       "</table>\n",
       "</div>"
      ],
      "text/plain": [
       "  dropoff_location_name  average_trips\n",
       "0                  Loop          10727\n",
       "1           River North           9523\n",
       "2         Streeterville           6664\n",
       "3             West Loop           5163\n",
       "4                O'Hare           2546\n",
       "5             Lake View           2421\n",
       "6            Grant Park           2068\n",
       "7         Museum Campus           1510\n",
       "8            Gold Coast           1364\n",
       "9    Sheffield & DePaul           1259"
      ]
     },
     "execution_count": 16,
     "metadata": {},
     "output_type": "execute_result"
    }
   ],
   "source": [
    "top10_dropoff"
   ]
  },
  {
   "cell_type": "code",
   "execution_count": 17,
   "metadata": {},
   "outputs": [
    {
     "data": {
      "image/png": "[encoded data removed]",
      "text/plain": [
       "<Figure size 792x504 with 1 Axes>"
      ]
     },
     "metadata": {
      "needs_background": "light"
     },
     "output_type": "display_data"
    }
   ],
   "source": [
    "plt.figure(figsize=(11,7))\n",
    "ax = sns.barplot(x='average_trips', y='dropoff_location_name', data=top10_dropoff)\n",
    "ax.set(xlabel='Number of rides', ylabel='Neighborhoods', title='Top 10 Neigborhoods in terms of drop-offs')\n",
    "for p in ax.patches:\n",
    "    width = p.get_width()\n",
    "    plt.text(5+p.get_width(), p.get_y()+0.55*p.get_height(),\n",
    "             '{:1.0f}'.format(width),\n",
    "             ha='center', va='center')\n",
    "plt.show()"
   ]
  },
  {
   "cell_type": "markdown",
   "metadata": {},
   "source": [
    "In top drop-off neighborhoods almost all of them (exept for O'Hare Airport) are in downtown Chicago, which is not that surprising. The most popular is Loop with 10727 drop-offs, then goes River North with 9523 drop-offs. Next we have Streetville with 6664 and West Loop with 5163 drop-offs. Rest of neigborhoods have relatively less drop-offs - from O'Hare with 2546 drop-offs to Sheffield & DePaul with 1259 drop-offs.\n",
    "\n",
    "That leaves us with basically with top 4 drop-off neighborhoods with relatively big numbers (Loop, River North, Streetville, West Loop) and the rest with smaller numbers of drop-offs."
   ]
  },
  {
   "cell_type": "markdown",
   "metadata": {},
   "source": [
    "<a id=\"point3\"></a>\n",
    "### Taxi companies and the number of rides"
   ]
  },
  {
   "cell_type": "code",
   "execution_count": 18,
   "metadata": {},
   "outputs": [
    {
     "data": {
      "text/plain": [
       "count       64.000000\n",
       "mean      2145.484375\n",
       "std       3812.310186\n",
       "min          2.000000\n",
       "25%         20.750000\n",
       "50%        178.500000\n",
       "75%       2106.500000\n",
       "max      19558.000000\n",
       "Name: trips_amount, dtype: float64"
      ]
     },
     "execution_count": 18,
     "metadata": {},
     "output_type": "execute_result"
    }
   ],
   "source": [
    "data_comp.trips_amount.describe()"
   ]
  },
  {
   "cell_type": "code",
   "execution_count": 19,
   "metadata": {},
   "outputs": [
    {
     "data": {
      "text/plain": [
       "20"
      ]
     },
     "execution_count": 19,
     "metadata": {},
     "output_type": "execute_result"
    }
   ],
   "source": [
    "len(data_comp.query('trips_amount > 1500')) #number 1500 was choosen manually to have top 20 companies, rest goes to 'Other'"
   ]
  },
  {
   "cell_type": "code",
   "execution_count": 20,
   "metadata": {},
   "outputs": [],
   "source": [
    "data_comp['name'] = np.where(data_comp['trips_amount'] > 1500, data_comp['company_name'], 'Other') #selective renaming"
   ]
  },
  {
   "cell_type": "code",
   "execution_count": 21,
   "metadata": {},
   "outputs": [
    {
     "data": {
      "text/html": [
       "<div>\n",
       "<style scoped>\n",
       "    .dataframe tbody tr th:only-of-type {\n",
       "        vertical-align: middle;\n",
       "    }\n",
       "\n",
       "    .dataframe tbody tr th {\n",
       "        vertical-align: top;\n",
       "    }\n",
       "\n",
       "    .dataframe thead th {\n",
       "        text-align: right;\n",
       "    }\n",
       "</style>\n",
       "<table border=\"1\" class=\"dataframe\">\n",
       "  <thead>\n",
       "    <tr style=\"text-align: right;\">\n",
       "      <th></th>\n",
       "      <th>name</th>\n",
       "      <th>trips_amount</th>\n",
       "    </tr>\n",
       "  </thead>\n",
       "  <tbody>\n",
       "    <tr>\n",
       "      <td>12</td>\n",
       "      <td>Dispatch Taxi Affiliation</td>\n",
       "      <td>3355</td>\n",
       "    </tr>\n",
       "    <tr>\n",
       "      <td>53</td>\n",
       "      <td>Other</td>\n",
       "      <td>14</td>\n",
       "    </tr>\n",
       "    <tr>\n",
       "      <td>39</td>\n",
       "      <td>Other</td>\n",
       "      <td>33</td>\n",
       "    </tr>\n",
       "    <tr>\n",
       "      <td>10</td>\n",
       "      <td>Choice Taxi Association</td>\n",
       "      <td>5015</td>\n",
       "    </tr>\n",
       "    <tr>\n",
       "      <td>27</td>\n",
       "      <td>Other</td>\n",
       "      <td>402</td>\n",
       "    </tr>\n",
       "  </tbody>\n",
       "</table>\n",
       "</div>"
      ],
      "text/plain": [
       "                         name  trips_amount\n",
       "12  Dispatch Taxi Affiliation          3355\n",
       "53                      Other            14\n",
       "39                      Other            33\n",
       "10    Choice Taxi Association          5015\n",
       "27                      Other           402"
      ]
     },
     "execution_count": 21,
     "metadata": {},
     "output_type": "execute_result"
    }
   ],
   "source": [
    "data_comp = data_comp[['name', 'trips_amount']]\n",
    "data_comp.sample(5)"
   ]
  },
  {
   "cell_type": "code",
   "execution_count": 22,
   "metadata": {},
   "outputs": [],
   "source": [
    "companies = data_comp.pivot_table(index='name', values='trips_amount', aggfunc=sum).sort_values(by='trips_amount', ascending=False).reset_index()"
   ]
  },
  {
   "cell_type": "code",
   "execution_count": 23,
   "metadata": {},
   "outputs": [
    {
     "data": {
      "text/html": [
       "<div>\n",
       "<style scoped>\n",
       "    .dataframe tbody tr th:only-of-type {\n",
       "        vertical-align: middle;\n",
       "    }\n",
       "\n",
       "    .dataframe tbody tr th {\n",
       "        vertical-align: top;\n",
       "    }\n",
       "\n",
       "    .dataframe thead th {\n",
       "        text-align: right;\n",
       "    }\n",
       "</style>\n",
       "<table border=\"1\" class=\"dataframe\">\n",
       "  <thead>\n",
       "    <tr style=\"text-align: right;\">\n",
       "      <th></th>\n",
       "      <th>name</th>\n",
       "      <th>trips_amount</th>\n",
       "    </tr>\n",
       "  </thead>\n",
       "  <tbody>\n",
       "    <tr>\n",
       "      <td>0</td>\n",
       "      <td>Flash Cab</td>\n",
       "      <td>19558</td>\n",
       "    </tr>\n",
       "    <tr>\n",
       "      <td>1</td>\n",
       "      <td>Taxi Affiliation Services</td>\n",
       "      <td>11422</td>\n",
       "    </tr>\n",
       "    <tr>\n",
       "      <td>2</td>\n",
       "      <td>Medallion Leasing</td>\n",
       "      <td>10367</td>\n",
       "    </tr>\n",
       "    <tr>\n",
       "      <td>3</td>\n",
       "      <td>Other</td>\n",
       "      <td>10253</td>\n",
       "    </tr>\n",
       "    <tr>\n",
       "      <td>4</td>\n",
       "      <td>Yellow Cab</td>\n",
       "      <td>9888</td>\n",
       "    </tr>\n",
       "    <tr>\n",
       "      <td>5</td>\n",
       "      <td>Taxi Affiliation Service Yellow</td>\n",
       "      <td>9299</td>\n",
       "    </tr>\n",
       "    <tr>\n",
       "      <td>6</td>\n",
       "      <td>Chicago Carriage Cab Corp</td>\n",
       "      <td>9181</td>\n",
       "    </tr>\n",
       "    <tr>\n",
       "      <td>7</td>\n",
       "      <td>City Service</td>\n",
       "      <td>8448</td>\n",
       "    </tr>\n",
       "    <tr>\n",
       "      <td>8</td>\n",
       "      <td>Sun Taxi</td>\n",
       "      <td>7701</td>\n",
       "    </tr>\n",
       "    <tr>\n",
       "      <td>9</td>\n",
       "      <td>Star North Management LLC</td>\n",
       "      <td>7455</td>\n",
       "    </tr>\n",
       "    <tr>\n",
       "      <td>10</td>\n",
       "      <td>Blue Ribbon Taxi Association Inc.</td>\n",
       "      <td>5953</td>\n",
       "    </tr>\n",
       "    <tr>\n",
       "      <td>11</td>\n",
       "      <td>Choice Taxi Association</td>\n",
       "      <td>5015</td>\n",
       "    </tr>\n",
       "    <tr>\n",
       "      <td>12</td>\n",
       "      <td>Globe Taxi</td>\n",
       "      <td>4383</td>\n",
       "    </tr>\n",
       "    <tr>\n",
       "      <td>13</td>\n",
       "      <td>Dispatch Taxi Affiliation</td>\n",
       "      <td>3355</td>\n",
       "    </tr>\n",
       "    <tr>\n",
       "      <td>14</td>\n",
       "      <td>Nova Taxi Affiliation Llc</td>\n",
       "      <td>3175</td>\n",
       "    </tr>\n",
       "    <tr>\n",
       "      <td>15</td>\n",
       "      <td>Patriot Taxi Dba Peace Taxi Association</td>\n",
       "      <td>2235</td>\n",
       "    </tr>\n",
       "    <tr>\n",
       "      <td>16</td>\n",
       "      <td>Checker Taxi Affiliation</td>\n",
       "      <td>2216</td>\n",
       "    </tr>\n",
       "    <tr>\n",
       "      <td>17</td>\n",
       "      <td>Blue Diamond</td>\n",
       "      <td>2070</td>\n",
       "    </tr>\n",
       "    <tr>\n",
       "      <td>18</td>\n",
       "      <td>Chicago Medallion Management</td>\n",
       "      <td>1955</td>\n",
       "    </tr>\n",
       "    <tr>\n",
       "      <td>19</td>\n",
       "      <td>24 Seven Taxi</td>\n",
       "      <td>1775</td>\n",
       "    </tr>\n",
       "    <tr>\n",
       "      <td>20</td>\n",
       "      <td>Chicago Medallion Leasing INC</td>\n",
       "      <td>1607</td>\n",
       "    </tr>\n",
       "  </tbody>\n",
       "</table>\n",
       "</div>"
      ],
      "text/plain": [
       "                                       name  trips_amount\n",
       "0                                 Flash Cab         19558\n",
       "1                 Taxi Affiliation Services         11422\n",
       "2                         Medallion Leasing         10367\n",
       "3                                     Other         10253\n",
       "4                                Yellow Cab          9888\n",
       "5           Taxi Affiliation Service Yellow          9299\n",
       "6                 Chicago Carriage Cab Corp          9181\n",
       "7                              City Service          8448\n",
       "8                                  Sun Taxi          7701\n",
       "9                 Star North Management LLC          7455\n",
       "10        Blue Ribbon Taxi Association Inc.          5953\n",
       "11                  Choice Taxi Association          5015\n",
       "12                               Globe Taxi          4383\n",
       "13                Dispatch Taxi Affiliation          3355\n",
       "14                Nova Taxi Affiliation Llc          3175\n",
       "15  Patriot Taxi Dba Peace Taxi Association          2235\n",
       "16                 Checker Taxi Affiliation          2216\n",
       "17                             Blue Diamond          2070\n",
       "18             Chicago Medallion Management          1955\n",
       "19                            24 Seven Taxi          1775\n",
       "20            Chicago Medallion Leasing INC          1607"
      ]
     },
     "execution_count": 23,
     "metadata": {},
     "output_type": "execute_result"
    }
   ],
   "source": [
    "companies"
   ]
  },
  {
   "cell_type": "code",
   "execution_count": 24,
   "metadata": {},
   "outputs": [
    {
     "data": {
      "image/png": "[encoded data removed]",
      "text/plain": [
       "<Figure size 864x576 with 1 Axes>"
      ]
     },
     "metadata": {
      "needs_background": "light"
     },
     "output_type": "display_data"
    }
   ],
   "source": [
    "plt.figure(figsize=(12,8))\n",
    "ax = sns.barplot(x='trips_amount', y='name', data=companies)\n",
    "ax.set(xlabel='Number of rides', ylabel='Taxi Companies', title='Taxi Companies and the Number of Rides')\n",
    "for p in ax.patches:\n",
    "    width = p.get_width()\n",
    "    plt.text(5+p.get_width(), p.get_y()+0.55*p.get_height(),\n",
    "             '{:1.0f}'.format(width),\n",
    "             ha='center', va='center')\n",
    "plt.show()"
   ]
  },
  {
   "cell_type": "markdown",
   "metadata": {},
   "source": [
    "We will take a look at 20 biggest taxi companies, the rest goes to 'Other' category.\n",
    "\n",
    "There is obviously a leading company - Flash Cab with 19558 rides. Second and third place have significantly less rides: Taxi Affiliation Services with 11422 rides and Medallion Leasing with 10367 rides. Next goes 'Other' category - alltogether 44 small companies make 10253 rides. Other 17 big taxi companies have between 1607 to 9888 rides each."
   ]
  },
  {
   "cell_type": "markdown",
   "metadata": {},
   "source": [
    "<a id=\"point5\"></a>\n",
    "### Testing hypothesis"
   ]
  },
  {
   "cell_type": "code",
   "execution_count": 25,
   "metadata": {},
   "outputs": [],
   "source": [
    "rides = pd.read_csv('/datasets/project_sql_result_07.csv')"
   ]
  },
  {
   "cell_type": "code",
   "execution_count": 26,
   "metadata": {},
   "outputs": [
    {
     "data": {
      "text/html": [
       "<div>\n",
       "<style scoped>\n",
       "    .dataframe tbody tr th:only-of-type {\n",
       "        vertical-align: middle;\n",
       "    }\n",
       "\n",
       "    .dataframe tbody tr th {\n",
       "        vertical-align: top;\n",
       "    }\n",
       "\n",
       "    .dataframe thead th {\n",
       "        text-align: right;\n",
       "    }\n",
       "</style>\n",
       "<table border=\"1\" class=\"dataframe\">\n",
       "  <thead>\n",
       "    <tr style=\"text-align: right;\">\n",
       "      <th></th>\n",
       "      <th>start_ts</th>\n",
       "      <th>weather_conditions</th>\n",
       "      <th>duration_seconds</th>\n",
       "    </tr>\n",
       "  </thead>\n",
       "  <tbody>\n",
       "    <tr>\n",
       "      <td>121</td>\n",
       "      <td>2017-11-04 19:00:00</td>\n",
       "      <td>Good</td>\n",
       "      <td>1869.0</td>\n",
       "    </tr>\n",
       "    <tr>\n",
       "      <td>318</td>\n",
       "      <td>2017-11-18 13:00:00</td>\n",
       "      <td>Bad</td>\n",
       "      <td>3317.0</td>\n",
       "    </tr>\n",
       "    <tr>\n",
       "      <td>907</td>\n",
       "      <td>2017-11-18 18:00:00</td>\n",
       "      <td>Good</td>\n",
       "      <td>1484.0</td>\n",
       "    </tr>\n",
       "    <tr>\n",
       "      <td>419</td>\n",
       "      <td>2017-11-25 11:00:00</td>\n",
       "      <td>Good</td>\n",
       "      <td>1541.0</td>\n",
       "    </tr>\n",
       "    <tr>\n",
       "      <td>77</td>\n",
       "      <td>2017-11-11 12:00:00</td>\n",
       "      <td>Good</td>\n",
       "      <td>2213.0</td>\n",
       "    </tr>\n",
       "    <tr>\n",
       "      <td>827</td>\n",
       "      <td>2017-11-11 08:00:00</td>\n",
       "      <td>Good</td>\n",
       "      <td>1500.0</td>\n",
       "    </tr>\n",
       "    <tr>\n",
       "      <td>65</td>\n",
       "      <td>2017-11-04 18:00:00</td>\n",
       "      <td>Bad</td>\n",
       "      <td>2363.0</td>\n",
       "    </tr>\n",
       "    <tr>\n",
       "      <td>418</td>\n",
       "      <td>2017-11-04 07:00:00</td>\n",
       "      <td>Good</td>\n",
       "      <td>1563.0</td>\n",
       "    </tr>\n",
       "    <tr>\n",
       "      <td>94</td>\n",
       "      <td>2017-11-11 18:00:00</td>\n",
       "      <td>Good</td>\n",
       "      <td>2220.0</td>\n",
       "    </tr>\n",
       "    <tr>\n",
       "      <td>849</td>\n",
       "      <td>2017-11-18 08:00:00</td>\n",
       "      <td>Bad</td>\n",
       "      <td>1313.0</td>\n",
       "    </tr>\n",
       "  </tbody>\n",
       "</table>\n",
       "</div>"
      ],
      "text/plain": [
       "                start_ts weather_conditions  duration_seconds\n",
       "121  2017-11-04 19:00:00               Good            1869.0\n",
       "318  2017-11-18 13:00:00                Bad            3317.0\n",
       "907  2017-11-18 18:00:00               Good            1484.0\n",
       "419  2017-11-25 11:00:00               Good            1541.0\n",
       "77   2017-11-11 12:00:00               Good            2213.0\n",
       "827  2017-11-11 08:00:00               Good            1500.0\n",
       "65   2017-11-04 18:00:00                Bad            2363.0\n",
       "418  2017-11-04 07:00:00               Good            1563.0\n",
       "94   2017-11-11 18:00:00               Good            2220.0\n",
       "849  2017-11-18 08:00:00                Bad            1313.0"
      ]
     },
     "execution_count": 26,
     "metadata": {},
     "output_type": "execute_result"
    }
   ],
   "source": [
    "rides.sample(10)"
   ]
  },
  {
   "cell_type": "code",
   "execution_count": 27,
   "metadata": {},
   "outputs": [
    {
     "name": "stdout",
     "output_type": "stream",
     "text": [
      "<class 'pandas.core.frame.DataFrame'>\n",
      "RangeIndex: 1068 entries, 0 to 1067\n",
      "Data columns (total 3 columns):\n",
      "start_ts              1068 non-null object\n",
      "weather_conditions    1068 non-null object\n",
      "duration_seconds      1068 non-null float64\n",
      "dtypes: float64(1), object(2)\n",
      "memory usage: 25.2+ KB\n"
     ]
    }
   ],
   "source": [
    "rides.info()"
   ]
  },
  {
   "cell_type": "code",
   "execution_count": 28,
   "metadata": {},
   "outputs": [],
   "source": [
    "rides.start_ts = pd.to_datetime(rides.start_ts, format='%Y-%m-%d %H:%M:%S')"
   ]
  },
  {
   "cell_type": "code",
   "execution_count": 29,
   "metadata": {},
   "outputs": [],
   "source": [
    "rides.duration_seconds = rides.duration_seconds.astype(int)"
   ]
  },
  {
   "cell_type": "code",
   "execution_count": 30,
   "metadata": {},
   "outputs": [
    {
     "data": {
      "text/plain": [
       "count     888.000000\n",
       "mean     1999.675676\n",
       "std       759.198268\n",
       "min         0.000000\n",
       "25%      1389.750000\n",
       "50%      1800.000000\n",
       "75%      2460.000000\n",
       "max      7440.000000\n",
       "Name: duration_seconds, dtype: float64"
      ]
     },
     "execution_count": 30,
     "metadata": {},
     "output_type": "execute_result"
    }
   ],
   "source": [
    "#Creating data slice for rides with good weather conditions\n",
    "\n",
    "rides_good = rides.query('weather_conditions == \"Good\"').copy()\n",
    "rides_good.duration_seconds.describe()"
   ]
  },
  {
   "cell_type": "code",
   "execution_count": 31,
   "metadata": {},
   "outputs": [
    {
     "data": {
      "text/plain": [
       "count     180.000000\n",
       "mean     2427.205556\n",
       "std       721.314138\n",
       "min       480.000000\n",
       "25%      1962.000000\n",
       "50%      2540.000000\n",
       "75%      2928.000000\n",
       "max      4980.000000\n",
       "Name: duration_seconds, dtype: float64"
      ]
     },
     "execution_count": 31,
     "metadata": {},
     "output_type": "execute_result"
    }
   ],
   "source": [
    "#Creating data slice for rides with good weather conditions\n",
    "\n",
    "rides_bad = rides.query('weather_conditions == \"Bad\"').copy()\n",
    "rides_bad.duration_seconds.describe()"
   ]
  },
  {
   "cell_type": "code",
   "execution_count": 32,
   "metadata": {},
   "outputs": [
    {
     "data": {
      "text/html": [
       "<div>\n",
       "<style scoped>\n",
       "    .dataframe tbody tr th:only-of-type {\n",
       "        vertical-align: middle;\n",
       "    }\n",
       "\n",
       "    .dataframe tbody tr th {\n",
       "        vertical-align: top;\n",
       "    }\n",
       "\n",
       "    .dataframe thead th {\n",
       "        text-align: right;\n",
       "    }\n",
       "</style>\n",
       "<table border=\"1\" class=\"dataframe\">\n",
       "  <thead>\n",
       "    <tr style=\"text-align: right;\">\n",
       "      <th></th>\n",
       "      <th>start_ts</th>\n",
       "      <th>weather_conditions</th>\n",
       "      <th>duration_seconds</th>\n",
       "    </tr>\n",
       "  </thead>\n",
       "  <tbody>\n",
       "    <tr>\n",
       "      <td>163</td>\n",
       "      <td>2017-11-11 09:00:00</td>\n",
       "      <td>Good</td>\n",
       "      <td>0</td>\n",
       "    </tr>\n",
       "    <tr>\n",
       "      <td>168</td>\n",
       "      <td>2017-11-11 07:00:00</td>\n",
       "      <td>Good</td>\n",
       "      <td>0</td>\n",
       "    </tr>\n",
       "    <tr>\n",
       "      <td>204</td>\n",
       "      <td>2017-11-18 19:00:00</td>\n",
       "      <td>Good</td>\n",
       "      <td>0</td>\n",
       "    </tr>\n",
       "    <tr>\n",
       "      <td>552</td>\n",
       "      <td>2017-11-04 01:00:00</td>\n",
       "      <td>Good</td>\n",
       "      <td>0</td>\n",
       "    </tr>\n",
       "    <tr>\n",
       "      <td>801</td>\n",
       "      <td>2017-11-04 09:00:00</td>\n",
       "      <td>Good</td>\n",
       "      <td>0</td>\n",
       "    </tr>\n",
       "    <tr>\n",
       "      <td>1063</td>\n",
       "      <td>2017-11-25 11:00:00</td>\n",
       "      <td>Good</td>\n",
       "      <td>0</td>\n",
       "    </tr>\n",
       "  </tbody>\n",
       "</table>\n",
       "</div>"
      ],
      "text/plain": [
       "                start_ts weather_conditions  duration_seconds\n",
       "163  2017-11-11 09:00:00               Good                 0\n",
       "168  2017-11-11 07:00:00               Good                 0\n",
       "204  2017-11-18 19:00:00               Good                 0\n",
       "552  2017-11-04 01:00:00               Good                 0\n",
       "801  2017-11-04 09:00:00               Good                 0\n",
       "1063 2017-11-25 11:00:00               Good                 0"
      ]
     },
     "execution_count": 32,
     "metadata": {},
     "output_type": "execute_result"
    }
   ],
   "source": [
    "rides_good[rides_good.duration_seconds == 0] #We have 6 rides with duration of 0 seconds, we might just not include them in our slice"
   ]
  },
  {
   "cell_type": "code",
   "execution_count": 33,
   "metadata": {},
   "outputs": [],
   "source": [
    "rides_good = rides_good[rides_good.duration_seconds != 0]"
   ]
  },
  {
   "cell_type": "code",
   "execution_count": 34,
   "metadata": {},
   "outputs": [
    {
     "name": "stdout",
     "output_type": "stream",
     "text": [
      "Ride duration for good weather conditions:\n",
      "count     882.000000\n",
      "mean     2013.278912\n",
      "std       743.565217\n",
      "min        60.000000\n",
      "25%      1397.250000\n",
      "50%      1800.000000\n",
      "75%      2460.000000\n",
      "max      7440.000000\n",
      "Name: duration_seconds, dtype: float64\n",
      "\n",
      "Average ride duration for good weather conditions: 2013.2789115646258\n",
      "Variance for ride duration for good weather conditions: 552262.3734555047\n",
      "\n",
      "Ride duration for bad weather conditions:\n",
      "count     180.000000\n",
      "mean     2427.205556\n",
      "std       721.314138\n",
      "min       480.000000\n",
      "25%      1962.000000\n",
      "50%      2540.000000\n",
      "75%      2928.000000\n",
      "max      4980.000000\n",
      "Name: duration_seconds, dtype: float64\n",
      "\n",
      "Average ride duration for bad weather conditions: 2427.2055555555557\n",
      "Variance for ride duration for bad weather conditions: 517403.56330246915\n"
     ]
    }
   ],
   "source": [
    "ride_dur_good = rides_good.duration_seconds\n",
    "ride_dur_bad = rides_bad.duration_seconds\n",
    "print('Ride duration for good weather conditions:')\n",
    "print(ride_dur_good.describe())\n",
    "print()\n",
    "print('Average ride duration for good weather conditions:', ride_dur_good.mean())\n",
    "print('Variance for ride duration for good weather conditions:', np.var(ride_dur_good))\n",
    "print()\n",
    "print('Ride duration for bad weather conditions:')\n",
    "print(ride_dur_bad.describe())\n",
    "print()\n",
    "print('Average ride duration for bad weather conditions:', ride_dur_bad.mean())\n",
    "print('Variance for ride duration for bad weather conditions:', np.var(ride_dur_bad))"
   ]
  },
  {
   "cell_type": "markdown",
   "metadata": {},
   "source": [
    "#### T-test without removing outliers"
   ]
  },
  {
   "cell_type": "code",
   "execution_count": 35,
   "metadata": {},
   "outputs": [
    {
     "name": "stdout",
     "output_type": "stream",
     "text": [
      "p-value: 2.4173590471585584e-11\n",
      "We reject the null hypothesis\n"
     ]
    }
   ],
   "source": [
    "alpha = .05\n",
    "\n",
    "results1 = st.ttest_ind(ride_dur_good, ride_dur_bad, equal_var=False) #run the t-test for two statistical populations whith different variances\n",
    "\n",
    "print('p-value:', results1.pvalue)\n",
    "if (results1.pvalue < alpha):\n",
    "    print('We reject the null hypothesis')\n",
    "else:\n",
    "    print(\"We can't reject the null hypothesis\")"
   ]
  },
  {
   "cell_type": "markdown",
   "metadata": {},
   "source": [
    "Let's check the hypothesis that average ride duration changes on rainy Saturdays. We only have Saturdays in our data set, so we will divide it into two slices - rides with good weather conditions and rides with bad weather conditions.\n",
    "\n",
    "The null hypothesis is \"The average ride duration is the same in any weather conditions, there is no difference\". The alternative hypothesis is \"The average ride duration differs on days with different weather conditions\". \n",
    "We set significance level to standard 0.05.\n",
    "\n",
    "After running the statistical test we see that the data provided sufficient evidence, given the significance level we selected, to reject the null hypothesis. Therefore, we can conclude that the average ride duration differs on rainy Saturdays. If we look at the data samples we have, we see that on sunny Saturday average ride duration is 2013 seconds (almost 34 minutes), while on rainy Saturdays average ride duration is 2427 seconds (40.5 minutes)."
   ]
  },
  {
   "cell_type": "markdown",
   "metadata": {},
   "source": [
    "#### T-test with removing outliers with IQR method"
   ]
  },
  {
   "cell_type": "code",
   "execution_count": 36,
   "metadata": {},
   "outputs": [
    {
     "name": "stdout",
     "output_type": "stream",
     "text": [
      "-196.875\n",
      "4054.125\n"
     ]
    }
   ],
   "source": [
    "# Checking for outliers in good weather conditions:\n",
    "\n",
    "rdg_desc = ride_dur_good.describe()\n",
    "print(rdg_desc['25%'] - 1.5 * (rdg_desc['75%'] - rdg_desc['25%'])) #no outliers should be removed\n",
    "print(rdg_desc['75%'] + 1.5 * (rdg_desc['75%'] - rdg_desc['25%'])) #all values bigger than 4065.375 should be removed"
   ]
  },
  {
   "cell_type": "code",
   "execution_count": 37,
   "metadata": {},
   "outputs": [
    {
     "name": "stdout",
     "output_type": "stream",
     "text": [
      "513.0\n",
      "4377.0\n"
     ]
    }
   ],
   "source": [
    "# Checking for outliers in bad weather conditions\n",
    "\n",
    "rdb_desc = ride_dur_bad.describe()\n",
    "print(rdb_desc['25%'] - 1.5 * (rdb_desc['75%'] - rdb_desc['25%'])) #all values less than 513 should be removed\n",
    "print(rdb_desc['75%'] + 1.5 * (rdb_desc['75%'] - rdb_desc['25%'])) #all values bigger than 4377 should be removed"
   ]
  },
  {
   "cell_type": "code",
   "execution_count": 38,
   "metadata": {},
   "outputs": [],
   "source": [
    "#Making a slice without outliers\n",
    "\n",
    "ride_dur_good_checked = rides_good.query('duration_seconds < 4065')['duration_seconds']\n",
    "ride_dur_bad_checked = rides_bad.query('513 < duration_seconds < 4377')['duration_seconds']"
   ]
  },
  {
   "cell_type": "code",
   "execution_count": 39,
   "metadata": {},
   "outputs": [
    {
     "name": "stdout",
     "output_type": "stream",
     "text": [
      "p-value: 3.86739128441034e-14\n",
      "We reject the null hypothesis\n"
     ]
    }
   ],
   "source": [
    "alpha = .05\n",
    "\n",
    "results1 = st.ttest_ind(ride_dur_good_checked, ride_dur_bad_checked, equal_var=False) #run the t-test for two statistical populations whith different variances\n",
    "\n",
    "print('p-value:', results1.pvalue)\n",
    "if (results1.pvalue < alpha):\n",
    "    print('We reject the null hypothesis')\n",
    "else:\n",
    "    print(\"We can't reject the null hypothesis\")"
   ]
  }
 ],
 "metadata": {
  "ExecuteTimeLog": [
   {
    "duration": 1415,
    "start_time": "2021-06-23T07:09:15.010Z"
   },
   {
    "duration": 30,
    "start_time": "2021-06-23T07:09:16.428Z"
   },
   {
    "duration": 17,
    "start_time": "2021-06-23T07:09:16.461Z"
   },
   {
    "duration": 11,
    "start_time": "2021-06-23T07:09:16.481Z"
   },
   {
    "duration": 7,
    "start_time": "2021-06-23T07:09:16.494Z"
   },
   {
    "duration": 7,
    "start_time": "2021-06-23T07:09:16.503Z"
   },
   {
    "duration": 21,
    "start_time": "2021-06-23T07:09:16.512Z"
   },
   {
    "duration": 10,
    "start_time": "2021-06-23T07:09:16.555Z"
   },
   {
    "duration": 8,
    "start_time": "2021-06-23T07:09:16.568Z"
   },
   {
    "duration": 11,
    "start_time": "2021-06-23T07:09:16.579Z"
   },
   {
    "duration": 11,
    "start_time": "2021-06-23T07:09:16.592Z"
   },
   {
    "duration": 8,
    "start_time": "2021-06-23T07:09:16.605Z"
   },
   {
    "duration": 43,
    "start_time": "2021-06-23T07:09:16.615Z"
   },
   {
    "duration": 11,
    "start_time": "2021-06-23T07:09:16.660Z"
   },
   {
    "duration": 8,
    "start_time": "2021-06-23T07:09:16.673Z"
   },
   {
    "duration": 22,
    "start_time": "2021-06-23T07:09:16.683Z"
   },
   {
    "duration": 466,
    "start_time": "2021-06-23T07:09:16.707Z"
   },
   {
    "duration": 11,
    "start_time": "2021-06-23T07:09:17.176Z"
   },
   {
    "duration": 16,
    "start_time": "2021-06-23T07:09:17.190Z"
   },
   {
    "duration": 5,
    "start_time": "2021-06-23T07:09:17.209Z"
   },
   {
    "duration": 47,
    "start_time": "2021-06-23T07:09:17.217Z"
   },
   {
    "duration": 15,
    "start_time": "2021-06-23T07:09:17.266Z"
   },
   {
    "duration": 10,
    "start_time": "2021-06-23T07:09:17.286Z"
   },
   {
    "duration": 842,
    "start_time": "2021-06-23T07:09:17.299Z"
   },
   {
    "duration": 68,
    "start_time": "2021-06-23T07:09:18.143Z"
   },
   {
    "duration": 12,
    "start_time": "2021-06-23T07:09:18.214Z"
   },
   {
    "duration": 12,
    "start_time": "2021-06-23T07:09:18.228Z"
   },
   {
    "duration": 10,
    "start_time": "2021-06-23T07:09:18.243Z"
   },
   {
    "duration": 4,
    "start_time": "2021-06-23T07:09:18.255Z"
   },
   {
    "duration": 18,
    "start_time": "2021-06-23T07:09:18.261Z"
   },
   {
    "duration": 13,
    "start_time": "2021-06-23T07:09:18.281Z"
   },
   {
    "duration": 13,
    "start_time": "2021-06-23T07:09:18.297Z"
   },
   {
    "duration": 8,
    "start_time": "2021-06-23T07:09:18.312Z"
   },
   {
    "duration": 51,
    "start_time": "2021-06-23T07:09:18.322Z"
   },
   {
    "duration": 9,
    "start_time": "2021-06-23T07:09:18.375Z"
   },
   {
    "duration": 11,
    "start_time": "2021-06-23T07:09:18.386Z"
   },
   {
    "duration": 9,
    "start_time": "2021-06-23T07:09:18.399Z"
   },
   {
    "duration": 50,
    "start_time": "2021-06-23T07:09:18.410Z"
   },
   {
    "duration": 9,
    "start_time": "2021-06-23T07:09:18.463Z"
   }
  ],
  "kernelspec": {
   "display_name": "Python 3",
   "language": "python",
   "name": "python3"
  },
  "language_info": {
   "codemirror_mode": {
    "name": "ipython",
    "version": 3
   },
   "file_extension": ".py",
   "mimetype": "text/x-python",
   "name": "python",
   "nbconvert_exporter": "python",
   "pygments_lexer": "ipython3",
   "version": "3.7.6"
  },
  "toc": {
   "base_numbering": 1,
   "nav_menu": {},
   "number_sections": true,
   "sideBar": true,
   "skip_h1_title": true,
   "title_cell": "Table of Contents",
   "title_sidebar": "Contents",
   "toc_cell": false,
   "toc_position": {},
   "toc_section_display": true,
   "toc_window_display": false
  }
 },
 "nbformat": 4,
 "nbformat_minor": 2
}
